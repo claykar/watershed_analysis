{
 "cells": [
  {
   "cell_type": "code",
   "execution_count": 1,
   "metadata": {},
   "outputs": [],
   "source": [
    "# load in packages\n",
    "import arcpy\n",
    "from arcpy.sa import *\n",
    "from arcpy.ia import *\n",
    "import gc"
   ]
  },
  {
   "cell_type": "code",
   "execution_count": 2,
   "metadata": {},
   "outputs": [],
   "source": [
    "# load in slope and make a list of years \n",
    "years = list(range(1985, 2024))\n",
    "slope = arcpy.Raster(\"other.gdb/slope\") # add path"
   ]
  },
  {
   "cell_type": "code",
   "execution_count": null,
   "metadata": {},
   "outputs": [],
   "source": [
    "def annual_lc_stats(year):\n",
    "    # load raster for year \n",
    "    nlcd_raster = arcpy.Raster(f\"nlcd.gdb\\Annual_NLCD_LndCov_{year}_CU_C1V0_yVWcgPt3Sk5G0VIKGTWu\")\n",
    "    # reclass with runoff coe as int\n",
    "    run_coe = arcpy.sa.Reclassify(nlcd_raster, \"Value\", RemapValue([[11, \"NODATA\"], [12, \"NODATA\"], [21, 55], [22, 65], [23, 70], \n",
    "                                                                    [24, 90],[31, 60], [41, 20], [42, 15], [43, 18],\n",
    "                                                                    [51, 25], [52, 25], [71, 35], [72, 35], [73, 15],\n",
    "                                                                    [74, 15], [81, 40], [82, 55], [90, 6], [95, 5]]), \"NODATA\")\n",
    "\n",
    "    # land cover stats\n",
    "    nlcd_table = f\".\\outputs.gdb\\lc_stats_{year}\"\n",
    "    nlcd_results_table = arcpy.ia.SummarizeCategoricalRaster(nlcd_raster, nlcd_table)\n",
    "    arcpy.conversion.TableToTable(nlcd_results_table, r\"C:\\Users\\clayk\\Documents\\geog_452_project\\out_puts\", f\"lc_stats_{year}.csv\")\n",
    "    # make int into floats\n",
    "    run_coe = run_coe * 0.01\n",
    "    # calc runoff profile with (run_coe * slope) \n",
    "    runoff_profile = run_coe * slope\n",
    "\n",
    "    del run_coe\n",
    "    # save runoff profile\n",
    "    runoff_profile.save(f\".\\outputs.gdb\\RunoffPr{year}\")\n",
    "    # get stats for each land cover type, save table, can be used later for more stat analysis\n",
    "    out_table = f\".\\outputs.gdb\\runoff_stats_{year}\"\n",
    "    results_table = arcpy.sa.ZonalStatisticsAsTable(nlcd_raster, \"Value\", runoff_profile, out_table)\n",
    "    arcpy.conversion.TableToTable(results_table, \".\\out_puts\", f\"runoff_stats_{year}.csv\")\n",
    "    # clean env\n",
    "    del nlcd_raster, runoff_profile, out_table, results_table, nlcd_table, nlcd_results_table\n",
    "    gc.collect()\n",
    "\n",
    "    "
   ]
  },
  {
   "cell_type": "code",
   "execution_count": null,
   "metadata": {},
   "outputs": [
    {
     "name": "stdout",
     "output_type": "stream",
     "text": [
      "1985\n",
      "1986\n",
      "1987\n",
      "1988\n",
      "1989\n",
      "1990\n",
      "1991\n",
      "1992\n",
      "1993\n",
      "1994\n",
      "1995\n",
      "1996\n",
      "1997\n",
      "1998\n",
      "1999\n",
      "2000\n",
      "2001\n",
      "2002\n",
      "2003\n",
      "2004\n",
      "2005\n",
      "2006\n",
      "2007\n",
      "2008\n",
      "2009\n",
      "2010\n",
      "2011\n",
      "2012\n",
      "2013\n",
      "2014\n",
      "2015\n",
      "2016\n",
      "2017\n",
      "2018\n",
      "2019\n",
      "2020\n",
      "2021\n",
      "2022\n",
      "2023\n"
     ]
    }
   ],
   "source": [
    "# run the analysis over all the years\n",
    "for year in years:\n",
    "    annual_lc_stats(year)\n",
    "    print(year)\n",
    "    \n",
    "\n",
    "\n"
   ]
  }
 ],
 "metadata": {
  "kernelspec": {
   "display_name": "ArcGISPro",
   "language": "python",
   "name": "python3"
  },
  "language_info": {
   "file_extension": ".py",
   "mimetype": "text/x-python",
   "name": "python",
   "version": "3.11.10"
  }
 },
 "nbformat": 4,
 "nbformat_minor": 4
}
