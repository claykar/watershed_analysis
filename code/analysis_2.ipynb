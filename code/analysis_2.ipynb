{
 "cells": [
  {
   "cell_type": "code",
   "execution_count": 1,
   "metadata": {},
   "outputs": [],
   "source": [
    "import arcpy\n",
    "from arcpy.sa import *\n",
    "import pandas as pd \n",
    "import numpy as np \n",
    "import gc\n",
    "from collections import Counter"
   ]
  },
  {
   "cell_type": "code",
   "execution_count": null,
   "metadata": {},
   "outputs": [],
   "source": [
    "lc_1985 = arcpy.Raster(\"nlcd.gdb\\Annual_NLCD_LndCov_1985_CU_C1V0_yVWcgPt3Sk5G0VIKGTWu\")\n",
    "lc_1985_arr = arcpy.RasterToNumPyArray(lc_1985)\n",
    "del lc_1985\n",
    "lc_2004 = arcpy.Raster(\"nlcd.gdb\\Annual_NLCD_LndCov_2004_CU_C1V0_yVWcgPt3Sk5G0VIKGTWu\")\n",
    "lc_2004_arr = arcpy.RasterToNumPyArray(lc_2004)\n",
    "del lc_2004\n",
    "lc_2023 = arcpy.Raster(\"nlcd.gdb\\Annual_NLCD_LndCov_2023_CU_C1V0_yVWcgPt3Sk5G0VIKGTWu\")\n",
    "lc_2023_arr = arcpy.RasterToNumPyArray(lc_2023)\n",
    "del lc_2023\n",
    "\n",
    "def compare_rasters(arr1, arr2):\n",
    "    changes = list(zip(arr1.flatten(), arr2.flatten()))\n",
    "    return Counter(changes)\n",
    "\n",
    "\n",
    "transitions_1985_2004 = compare_rasters(lc_1985_arr, lc_2004_arr)\n",
    "transitions_2004_2023 = compare_rasters(lc_2004_arr, lc_2023_arr)\n",
    "\n",
    "\n",
    "def counter_to_dataframe(counter):\n",
    "    df = pd.DataFrame(list(counter.items()), columns=[\"Transition\", \"Count\"])\n",
    "    df[[\"From\", \"To\"]] = pd.DataFrame(df[\"Transition\"].tolist(), index=df.index)\n",
    "    return df.drop(columns=\"Transition\")\n",
    "\n",
    "df_85_04 = counter_to_dataframe(transitions_1985_2004)\n",
    "df_04_23 = counter_to_dataframe(transitions_2004_2023)\n",
    "\n",
    "df_85_04.to_csv(\".\\out_puts\\lc_t_1985_2004.csv\", index=False)\n",
    "df_04_23.to_csv(\".\\out_puts\\lc_t_2004_2023.csv\", index=False)\n"
   ]
  }
 ],
 "metadata": {
  "kernelspec": {
   "display_name": "ArcGISPro",
   "language": "python",
   "name": "python3"
  },
  "language_info": {
   "file_extension": ".py",
   "mimetype": "text/x-python",
   "name": "python",
   "version": "3.11.10"
  }
 },
 "nbformat": 4,
 "nbformat_minor": 4
}
